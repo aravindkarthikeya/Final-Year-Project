{
  "nbformat": 4,
  "nbformat_minor": 0,
  "metadata": {
    "colab": {
      "provenance": [],
      "authorship_tag": "ABX9TyOjYfqK8c4KQtAa507Hj5l7",
      "include_colab_link": true
    },
    "kernelspec": {
      "name": "python3",
      "display_name": "Python 3"
    },
    "language_info": {
      "name": "python"
    }
  },
  "cells": [
    {
      "cell_type": "markdown",
      "metadata": {
        "id": "view-in-github",
        "colab_type": "text"
      },
      "source": [
        "<a href=\"https://colab.research.google.com/github/manikcb/sem_project/blob/main/sample7.ipynb\" target=\"_parent\"><img src=\"https://colab.research.google.com/assets/colab-badge.svg\" alt=\"Open In Colab\"/></a>"
      ]
    },
    {
      "cell_type": "code",
      "execution_count": 1,
      "metadata": {
        "id": "VRxwfIp31AEn"
      },
      "outputs": [],
      "source": [
        "from sklearn import datasets\n",
        "import numpy as np"
      ]
    },
    {
      "cell_type": "code",
      "source": [
        "# Load Iris Data\n",
        "iris = datasets.load_iris()"
      ],
      "metadata": {
        "id": "J5JAsQ-S1HBV"
      },
      "execution_count": 2,
      "outputs": []
    },
    {
      "cell_type": "code",
      "source": [
        "# Split dataset into features and target variable\n",
        "X = iris.data  \n",
        "y = iris.target"
      ],
      "metadata": {
        "id": "GzbClzdO1Kk-"
      },
      "execution_count": 3,
      "outputs": []
    },
    {
      "cell_type": "code",
      "source": [
        "\n",
        "import xgboost as xgb\n",
        "print(xgb.__version__)"
      ],
      "metadata": {
        "colab": {
          "base_uri": "https://localhost:8080/"
        },
        "id": "ZlFhGx9a1NuI",
        "outputId": "59a501cf-ad7d-400b-d4b9-5013406e5312"
      },
      "execution_count": 4,
      "outputs": [
        {
          "output_type": "stream",
          "name": "stdout",
          "text": [
            "0.90\n"
          ]
        }
      ]
    },
    {
      "cell_type": "code",
      "source": [
        "from sklearn.model_selection import train_test_split\n",
        "\n",
        "X_train, X_test, y_train, y_test = train_test_split(X, y, test_size=0.2, random_state=100, stratify=y)"
      ],
      "metadata": {
        "id": "76yoyqe81Pme"
      },
      "execution_count": 5,
      "outputs": []
    },
    {
      "cell_type": "code",
      "source": [
        "X_train.shape"
      ],
      "metadata": {
        "colab": {
          "base_uri": "https://localhost:8080/"
        },
        "id": "vEbmxSFW1RBz",
        "outputId": "e2db4fdf-89dc-48a2-8927-01baf038e9cb"
      },
      "execution_count": 6,
      "outputs": [
        {
          "output_type": "execute_result",
          "data": {
            "text/plain": [
              "(120, 4)"
            ]
          },
          "metadata": {},
          "execution_count": 6
        }
      ]
    },
    {
      "cell_type": "code",
      "source": [
        "bt = xgb.XGBClassifier(\n",
        "    max_depth=5, learning_rate=0.2, n_estimators=10, objective=\"multi:softmax\"\n",
        ")  # Setup xgboost model\n",
        "bt.fit(X_train, y_train, verbose=False)  # Train it to our data"
      ],
      "metadata": {
        "id": "b8t32HKH1S63"
      },
      "execution_count": null,
      "outputs": []
    },
    {
      "cell_type": "code",
      "source": [
        "# Predict and compare with real labels\n",
        "bt.predict(X_test)"
      ],
      "metadata": {
        "colab": {
          "base_uri": "https://localhost:8080/"
        },
        "id": "uEvH4PkZ1UoG",
        "outputId": "bb0b6274-ac49-4d13-8ba5-12bbe005e447"
      },
      "execution_count": 8,
      "outputs": [
        {
          "output_type": "execute_result",
          "data": {
            "text/plain": [
              "array([1, 1, 1, 2, 0, 2, 1, 0, 1, 1, 1, 2, 2, 0, 2, 0, 0, 1, 0, 2, 0, 1,\n",
              "       1, 0, 1, 0, 0, 1, 2, 1])"
            ]
          },
          "metadata": {},
          "execution_count": 8
        }
      ]
    },
    {
      "cell_type": "code",
      "source": [
        "\n",
        "y_test"
      ],
      "metadata": {
        "colab": {
          "base_uri": "https://localhost:8080/"
        },
        "id": "CLM5D6qi1V6W",
        "outputId": "973ab890-fd80-47aa-83de-8a7ba411c533"
      },
      "execution_count": 9,
      "outputs": [
        {
          "output_type": "execute_result",
          "data": {
            "text/plain": [
              "array([1, 1, 2, 2, 0, 2, 1, 0, 1, 1, 1, 2, 2, 0, 2, 0, 0, 1, 0, 2, 0, 1,\n",
              "       1, 0, 2, 0, 0, 2, 2, 1])"
            ]
          },
          "metadata": {},
          "execution_count": 9
        }
      ]
    },
    {
      "cell_type": "code",
      "source": [
        "model_file_name = \"DEMO-local-xgboost-model\"\n",
        "\n",
        "# Save model using Booster  - Problem with predict ('numpy.ndarray' object has no attribute 'feature_names')\n",
        "#bt._Booster.save_model(model_file_name)\n",
        "\n",
        "# Save model using sklearn XGBClassifier API - Problem with predict ('XGBClassifier' object has no attribute '_le')\n",
        "#bt.save_model(model_file_name)\n",
        "\n",
        "\n",
        "# Save model using pickle - Recommended according to https://github.com/dmlc/xgboost/pull/3829\n",
        "# Use joblib which is considered better than pickling \n",
        "import joblib\n",
        "joblib.dump(bt, model_file_name) "
      ],
      "metadata": {
        "colab": {
          "base_uri": "https://localhost:8080/"
        },
        "id": "bBz__lDi1YBX",
        "outputId": "fae91719-0f80-4b84-9f93-50b009bbb01d"
      },
      "execution_count": 10,
      "outputs": [
        {
          "output_type": "execute_result",
          "data": {
            "text/plain": [
              "['DEMO-local-xgboost-model']"
            ]
          },
          "metadata": {},
          "execution_count": 10
        }
      ]
    },
    {
      "cell_type": "code",
      "source": [
        "import numpy as np\n",
        "\n",
        "point_X = X_test[0:5]\n",
        "\n",
        "print(point_X)\n",
        "\n",
        "#point_X = np.expand_dims(point_X, axis=0)\n",
        "#print(point_X)\n",
        "#point_y = test_y[0]\n",
        "\n",
        "np.savetxt(\"test_point.csv\", point_X, delimiter=\",\")"
      ],
      "metadata": {
        "colab": {
          "base_uri": "https://localhost:8080/"
        },
        "id": "Yt-8qL-v1Z4-",
        "outputId": "af7d5ec8-844c-4eaa-db03-451de974d8f8"
      },
      "execution_count": 11,
      "outputs": [
        {
          "output_type": "stream",
          "name": "stdout",
          "text": [
            "[[5.4 3.  4.5 1.5]\n",
            " [5.6 3.  4.1 1.3]\n",
            " [6.3 2.8 5.1 1.5]\n",
            " [6.  3.  4.8 1.8]\n",
            " [5.1 3.3 1.7 0.5]]\n"
          ]
        }
      ]
    },
    {
      "cell_type": "code",
      "source": [
        "file_name = (\n",
        "    \"test_point.csv\"  # customize to your test file, will be 'mnist.single.test' if use data above\n",
        ")\n",
        "\n",
        "with open(file_name, \"r\") as f:\n",
        "    mypayload = np.loadtxt(f, delimiter=\",\")\n",
        "\n",
        "print(mypayload)"
      ],
      "metadata": {
        "colab": {
          "base_uri": "https://localhost:8080/"
        },
        "id": "ACPxHimB1bio",
        "outputId": "c403caee-a09d-445a-deb6-fdabe4162725"
      },
      "execution_count": 12,
      "outputs": [
        {
          "output_type": "stream",
          "name": "stdout",
          "text": [
            "[[5.4 3.  4.5 1.5]\n",
            " [5.6 3.  4.1 1.3]\n",
            " [6.3 2.8 5.1 1.5]\n",
            " [6.  3.  4.8 1.8]\n",
            " [5.1 3.3 1.7 0.5]]\n"
          ]
        }
      ]
    },
    {
      "cell_type": "code",
      "source": [
        "bt1 = joblib.load(model_file_name)\n",
        "bt1.predict(mypayload)"
      ],
      "metadata": {
        "colab": {
          "base_uri": "https://localhost:8080/"
        },
        "id": "ldyXVMCz1dQG",
        "outputId": "bc0f4144-d14b-4818-ce8e-ec250143a95f"
      },
      "execution_count": 13,
      "outputs": [
        {
          "output_type": "execute_result",
          "data": {
            "text/plain": [
              "array([1, 1, 1, 2, 0])"
            ]
          },
          "metadata": {},
          "execution_count": 13
        }
      ]
    },
    {
      "cell_type": "code",
      "source": [],
      "metadata": {
        "id": "CTi3WSv61uvQ"
      },
      "execution_count": null,
      "outputs": []
    }
  ]
}