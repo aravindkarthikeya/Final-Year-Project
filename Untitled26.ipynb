{
  "nbformat": 4,
  "nbformat_minor": 0,
  "metadata": {
    "colab": {
      "provenance": [],
      "authorship_tag": "ABX9TyNfwZK83XjyqXm2AN1cJ2nl",
      "include_colab_link": true
    },
    "kernelspec": {
      "name": "python3",
      "display_name": "Python 3"
    },
    "language_info": {
      "name": "python"
    }
  },
  "cells": [
    {
      "cell_type": "markdown",
      "metadata": {
        "id": "view-in-github",
        "colab_type": "text"
      },
      "source": [
        "<a href=\"https://colab.research.google.com/github/manikcb/sem_project/blob/main/Untitled26.ipynb\" target=\"_parent\"><img src=\"https://colab.research.google.com/assets/colab-badge.svg\" alt=\"Open In Colab\"/></a>"
      ]
    },
    {
      "cell_type": "code",
      "execution_count": 1,
      "metadata": {
        "id": "7x40gYUxw5_1"
      },
      "outputs": [],
      "source": [
        "!pip install -q -U \"tensorflow-text==2.8.*\""
      ]
    },
    {
      "cell_type": "code",
      "source": [
        "from google.colab import drive\n",
        "drive.mount('/content/drive')"
      ],
      "metadata": {
        "colab": {
          "base_uri": "https://localhost:8080/"
        },
        "id": "QYRgFxonxH-2",
        "outputId": "a704c347-8b26-496c-8664-c498ab9b9168"
      },
      "execution_count": 2,
      "outputs": [
        {
          "output_type": "stream",
          "name": "stdout",
          "text": [
            "Drive already mounted at /content/drive; to attempt to forcibly remount, call drive.mount(\"/content/drive\", force_remount=True).\n"
          ]
        }
      ]
    },
    {
      "cell_type": "code",
      "source": [
        "import tensorflow as tf\n",
        "import tensorflow_hub as hub\n",
        "import tensorflow_text as text\n",
        "import pandas as pd\n"
      ],
      "metadata": {
        "id": "WOBep_C5xKQ1"
      },
      "execution_count": 3,
      "outputs": []
    },
    {
      "cell_type": "code",
      "source": [
        "df = pd.read_csv(\"/content/drive/MyDrive/Project /final dataset2.xlsx - Sheet1.csv\")\n",
        "df.head(10)"
      ],
      "metadata": {
        "colab": {
          "base_uri": "https://localhost:8080/",
          "height": 363
        },
        "id": "SM8hD_WyxMn0",
        "outputId": "ff2d7ba4-9522-4811-d485-4b49413ee470"
      },
      "execution_count": 4,
      "outputs": [
        {
          "output_type": "execute_result",
          "data": {
            "text/plain": [
              "                                             message    category\n",
              "0  Hey dumb fuck celebs stop doing something for ...      harass\n",
              "1  Drink Bleach Bit â€œ@tayyoung_: FUCK OBAMA, du...      harass\n",
              "2  mmmm #MKR Forget Deconstruction @lisamromano @...  not_harass\n",
              "3  BLOCK ME THE FUCK BACK YOUR DUMB! Nigga comes ...      harass\n",
              "4  #Kerala RTE will lead to shutting down of 'Bad...  not_harass\n",
              "5  I donâ€™t like bragging about really anything ...      harass\n",
              "6                                          Preseason  not_harass\n",
              "7  this dumb bytch wanna get fuckd up RT @tayyoun...      harass\n",
              "8  I guess him I ain't a nigger lol RT @CainTheGr...      harass\n",
              "9  help go back to ur old old old old layout like...      harass"
            ],
            "text/html": [
              "\n",
              "  <div id=\"df-c6154f62-c0fa-4355-935e-454c1c985aff\">\n",
              "    <div class=\"colab-df-container\">\n",
              "      <div>\n",
              "<style scoped>\n",
              "    .dataframe tbody tr th:only-of-type {\n",
              "        vertical-align: middle;\n",
              "    }\n",
              "\n",
              "    .dataframe tbody tr th {\n",
              "        vertical-align: top;\n",
              "    }\n",
              "\n",
              "    .dataframe thead th {\n",
              "        text-align: right;\n",
              "    }\n",
              "</style>\n",
              "<table border=\"1\" class=\"dataframe\">\n",
              "  <thead>\n",
              "    <tr style=\"text-align: right;\">\n",
              "      <th></th>\n",
              "      <th>message</th>\n",
              "      <th>category</th>\n",
              "    </tr>\n",
              "  </thead>\n",
              "  <tbody>\n",
              "    <tr>\n",
              "      <th>0</th>\n",
              "      <td>Hey dumb fuck celebs stop doing something for ...</td>\n",
              "      <td>harass</td>\n",
              "    </tr>\n",
              "    <tr>\n",
              "      <th>1</th>\n",
              "      <td>Drink Bleach Bit â€œ@tayyoung_: FUCK OBAMA, du...</td>\n",
              "      <td>harass</td>\n",
              "    </tr>\n",
              "    <tr>\n",
              "      <th>2</th>\n",
              "      <td>mmmm #MKR Forget Deconstruction @lisamromano @...</td>\n",
              "      <td>not_harass</td>\n",
              "    </tr>\n",
              "    <tr>\n",
              "      <th>3</th>\n",
              "      <td>BLOCK ME THE FUCK BACK YOUR DUMB! Nigga comes ...</td>\n",
              "      <td>harass</td>\n",
              "    </tr>\n",
              "    <tr>\n",
              "      <th>4</th>\n",
              "      <td>#Kerala RTE will lead to shutting down of 'Bad...</td>\n",
              "      <td>not_harass</td>\n",
              "    </tr>\n",
              "    <tr>\n",
              "      <th>5</th>\n",
              "      <td>I donâ€™t like bragging about really anything ...</td>\n",
              "      <td>harass</td>\n",
              "    </tr>\n",
              "    <tr>\n",
              "      <th>6</th>\n",
              "      <td>Preseason</td>\n",
              "      <td>not_harass</td>\n",
              "    </tr>\n",
              "    <tr>\n",
              "      <th>7</th>\n",
              "      <td>this dumb bytch wanna get fuckd up RT @tayyoun...</td>\n",
              "      <td>harass</td>\n",
              "    </tr>\n",
              "    <tr>\n",
              "      <th>8</th>\n",
              "      <td>I guess him I ain't a nigger lol RT @CainTheGr...</td>\n",
              "      <td>harass</td>\n",
              "    </tr>\n",
              "    <tr>\n",
              "      <th>9</th>\n",
              "      <td>help go back to ur old old old old layout like...</td>\n",
              "      <td>harass</td>\n",
              "    </tr>\n",
              "  </tbody>\n",
              "</table>\n",
              "</div>\n",
              "      <button class=\"colab-df-convert\" onclick=\"convertToInteractive('df-c6154f62-c0fa-4355-935e-454c1c985aff')\"\n",
              "              title=\"Convert this dataframe to an interactive table.\"\n",
              "              style=\"display:none;\">\n",
              "        \n",
              "  <svg xmlns=\"http://www.w3.org/2000/svg\" height=\"24px\"viewBox=\"0 0 24 24\"\n",
              "       width=\"24px\">\n",
              "    <path d=\"M0 0h24v24H0V0z\" fill=\"none\"/>\n",
              "    <path d=\"M18.56 5.44l.94 2.06.94-2.06 2.06-.94-2.06-.94-.94-2.06-.94 2.06-2.06.94zm-11 1L8.5 8.5l.94-2.06 2.06-.94-2.06-.94L8.5 2.5l-.94 2.06-2.06.94zm10 10l.94 2.06.94-2.06 2.06-.94-2.06-.94-.94-2.06-.94 2.06-2.06.94z\"/><path d=\"M17.41 7.96l-1.37-1.37c-.4-.4-.92-.59-1.43-.59-.52 0-1.04.2-1.43.59L10.3 9.45l-7.72 7.72c-.78.78-.78 2.05 0 2.83L4 21.41c.39.39.9.59 1.41.59.51 0 1.02-.2 1.41-.59l7.78-7.78 2.81-2.81c.8-.78.8-2.07 0-2.86zM5.41 20L4 18.59l7.72-7.72 1.47 1.35L5.41 20z\"/>\n",
              "  </svg>\n",
              "      </button>\n",
              "      \n",
              "  <style>\n",
              "    .colab-df-container {\n",
              "      display:flex;\n",
              "      flex-wrap:wrap;\n",
              "      gap: 12px;\n",
              "    }\n",
              "\n",
              "    .colab-df-convert {\n",
              "      background-color: #E8F0FE;\n",
              "      border: none;\n",
              "      border-radius: 50%;\n",
              "      cursor: pointer;\n",
              "      display: none;\n",
              "      fill: #1967D2;\n",
              "      height: 32px;\n",
              "      padding: 0 0 0 0;\n",
              "      width: 32px;\n",
              "    }\n",
              "\n",
              "    .colab-df-convert:hover {\n",
              "      background-color: #E2EBFA;\n",
              "      box-shadow: 0px 1px 2px rgba(60, 64, 67, 0.3), 0px 1px 3px 1px rgba(60, 64, 67, 0.15);\n",
              "      fill: #174EA6;\n",
              "    }\n",
              "\n",
              "    [theme=dark] .colab-df-convert {\n",
              "      background-color: #3B4455;\n",
              "      fill: #D2E3FC;\n",
              "    }\n",
              "\n",
              "    [theme=dark] .colab-df-convert:hover {\n",
              "      background-color: #434B5C;\n",
              "      box-shadow: 0px 1px 3px 1px rgba(0, 0, 0, 0.15);\n",
              "      filter: drop-shadow(0px 1px 2px rgba(0, 0, 0, 0.3));\n",
              "      fill: #FFFFFF;\n",
              "    }\n",
              "  </style>\n",
              "\n",
              "      <script>\n",
              "        const buttonEl =\n",
              "          document.querySelector('#df-c6154f62-c0fa-4355-935e-454c1c985aff button.colab-df-convert');\n",
              "        buttonEl.style.display =\n",
              "          google.colab.kernel.accessAllowed ? 'block' : 'none';\n",
              "\n",
              "        async function convertToInteractive(key) {\n",
              "          const element = document.querySelector('#df-c6154f62-c0fa-4355-935e-454c1c985aff');\n",
              "          const dataTable =\n",
              "            await google.colab.kernel.invokeFunction('convertToInteractive',\n",
              "                                                     [key], {});\n",
              "          if (!dataTable) return;\n",
              "\n",
              "          const docLinkHtml = 'Like what you see? Visit the ' +\n",
              "            '<a target=\"_blank\" href=https://colab.research.google.com/notebooks/data_table.ipynb>data table notebook</a>'\n",
              "            + ' to learn more about interactive tables.';\n",
              "          element.innerHTML = '';\n",
              "          dataTable['output_type'] = 'display_data';\n",
              "          await google.colab.output.renderOutput(dataTable, element);\n",
              "          const docLink = document.createElement('div');\n",
              "          docLink.innerHTML = docLinkHtml;\n",
              "          element.appendChild(docLink);\n",
              "        }\n",
              "      </script>\n",
              "    </div>\n",
              "  </div>\n",
              "  "
            ]
          },
          "metadata": {},
          "execution_count": 4
        }
      ]
    },
    {
      "cell_type": "code",
      "source": [
        "len(df),df.index.shape[-1]"
      ],
      "metadata": {
        "colab": {
          "base_uri": "https://localhost:8080/"
        },
        "id": "bbzG4YZXxzyn",
        "outputId": "43a0c9fd-e950-4b40-d7b7-8cd76c5d20ac"
      },
      "execution_count": 5,
      "outputs": [
        {
          "output_type": "execute_result",
          "data": {
            "text/plain": [
              "(1000, 1000)"
            ]
          },
          "metadata": {},
          "execution_count": 5
        }
      ]
    },
    {
      "cell_type": "code",
      "source": [
        "pip install -U scikit-learn"
      ],
      "metadata": {
        "colab": {
          "base_uri": "https://localhost:8080/"
        },
        "id": "0IfV4fk1y8Up",
        "outputId": "ef11ff8c-e31e-4868-8cb0-4cf709910eb5"
      },
      "execution_count": 6,
      "outputs": [
        {
          "output_type": "stream",
          "name": "stdout",
          "text": [
            "Looking in indexes: https://pypi.org/simple, https://us-python.pkg.dev/colab-wheels/public/simple/\n",
            "Requirement already satisfied: scikit-learn in /usr/local/lib/python3.8/dist-packages (1.2.1)\n",
            "Requirement already satisfied: joblib>=1.1.1 in /usr/local/lib/python3.8/dist-packages (from scikit-learn) (1.2.0)\n",
            "Requirement already satisfied: numpy>=1.17.3 in /usr/local/lib/python3.8/dist-packages (from scikit-learn) (1.21.6)\n",
            "Requirement already satisfied: threadpoolctl>=2.0.0 in /usr/local/lib/python3.8/dist-packages (from scikit-learn) (3.1.0)\n",
            "Requirement already satisfied: scipy>=1.3.2 in /usr/local/lib/python3.8/dist-packages (from scikit-learn) (1.7.3)\n"
          ]
        }
      ]
    },
    {
      "cell_type": "code",
      "source": [
        "pip install matplotlib"
      ],
      "metadata": {
        "colab": {
          "base_uri": "https://localhost:8080/"
        },
        "id": "LKJIA7arzau-",
        "outputId": "f995bb7b-d725-4432-bfc1-57044de0dd37"
      },
      "execution_count": 7,
      "outputs": [
        {
          "output_type": "stream",
          "name": "stdout",
          "text": [
            "Looking in indexes: https://pypi.org/simple, https://us-python.pkg.dev/colab-wheels/public/simple/\n",
            "Requirement already satisfied: matplotlib in /usr/local/lib/python3.8/dist-packages (3.2.2)\n",
            "Requirement already satisfied: kiwisolver>=1.0.1 in /usr/local/lib/python3.8/dist-packages (from matplotlib) (1.4.4)\n",
            "Requirement already satisfied: python-dateutil>=2.1 in /usr/local/lib/python3.8/dist-packages (from matplotlib) (2.8.2)\n",
            "Requirement already satisfied: cycler>=0.10 in /usr/local/lib/python3.8/dist-packages (from matplotlib) (0.11.0)\n",
            "Requirement already satisfied: numpy>=1.11 in /usr/local/lib/python3.8/dist-packages (from matplotlib) (1.21.6)\n",
            "Requirement already satisfied: pyparsing!=2.0.4,!=2.1.2,!=2.1.6,>=2.0.1 in /usr/local/lib/python3.8/dist-packages (from matplotlib) (3.0.9)\n",
            "Requirement already satisfied: six>=1.5 in /usr/local/lib/python3.8/dist-packages (from python-dateutil>=2.1->matplotlib) (1.15.0)\n"
          ]
        }
      ]
    },
    {
      "cell_type": "code",
      "source": [
        "pip install seaborn"
      ],
      "metadata": {
        "colab": {
          "base_uri": "https://localhost:8080/"
        },
        "id": "RsIlOU2eziDc",
        "outputId": "b27203af-a63d-413f-d938-17f68dc09e80"
      },
      "execution_count": 8,
      "outputs": [
        {
          "output_type": "stream",
          "name": "stdout",
          "text": [
            "Looking in indexes: https://pypi.org/simple, https://us-python.pkg.dev/colab-wheels/public/simple/\n",
            "Requirement already satisfied: seaborn in /usr/local/lib/python3.8/dist-packages (0.11.2)\n",
            "Requirement already satisfied: matplotlib>=2.2 in /usr/local/lib/python3.8/dist-packages (from seaborn) (3.2.2)\n",
            "Requirement already satisfied: pandas>=0.23 in /usr/local/lib/python3.8/dist-packages (from seaborn) (1.3.5)\n",
            "Requirement already satisfied: scipy>=1.0 in /usr/local/lib/python3.8/dist-packages (from seaborn) (1.7.3)\n",
            "Requirement already satisfied: numpy>=1.15 in /usr/local/lib/python3.8/dist-packages (from seaborn) (1.21.6)\n",
            "Requirement already satisfied: pyparsing!=2.0.4,!=2.1.2,!=2.1.6,>=2.0.1 in /usr/local/lib/python3.8/dist-packages (from matplotlib>=2.2->seaborn) (3.0.9)\n",
            "Requirement already satisfied: python-dateutil>=2.1 in /usr/local/lib/python3.8/dist-packages (from matplotlib>=2.2->seaborn) (2.8.2)\n",
            "Requirement already satisfied: kiwisolver>=1.0.1 in /usr/local/lib/python3.8/dist-packages (from matplotlib>=2.2->seaborn) (1.4.4)\n",
            "Requirement already satisfied: cycler>=0.10 in /usr/local/lib/python3.8/dist-packages (from matplotlib>=2.2->seaborn) (0.11.0)\n",
            "Requirement already satisfied: pytz>=2017.3 in /usr/local/lib/python3.8/dist-packages (from pandas>=0.23->seaborn) (2022.7.1)\n",
            "Requirement already satisfied: six>=1.5 in /usr/local/lib/python3.8/dist-packages (from python-dateutil>=2.1->matplotlib>=2.2->seaborn) (1.15.0)\n"
          ]
        }
      ]
    },
    {
      "cell_type": "code",
      "source": [
        "pip install nltk"
      ],
      "metadata": {
        "colab": {
          "base_uri": "https://localhost:8080/"
        },
        "id": "ZOj5aaj10Ke8",
        "outputId": "7cd623ca-d0e6-4393-aee7-b9febc4a810c"
      },
      "execution_count": 9,
      "outputs": [
        {
          "output_type": "stream",
          "name": "stdout",
          "text": [
            "Looking in indexes: https://pypi.org/simple, https://us-python.pkg.dev/colab-wheels/public/simple/\n",
            "Requirement already satisfied: nltk in /usr/local/lib/python3.8/dist-packages (3.7)\n",
            "Requirement already satisfied: click in /usr/local/lib/python3.8/dist-packages (from nltk) (7.1.2)\n",
            "Requirement already satisfied: regex>=2021.8.3 in /usr/local/lib/python3.8/dist-packages (from nltk) (2022.6.2)\n",
            "Requirement already satisfied: joblib in /usr/local/lib/python3.8/dist-packages (from nltk) (1.2.0)\n",
            "Requirement already satisfied: tqdm in /usr/local/lib/python3.8/dist-packages (from nltk) (4.64.1)\n"
          ]
        }
      ]
    },
    {
      "cell_type": "code",
      "source": [
        "pip install numpy"
      ],
      "metadata": {
        "colab": {
          "base_uri": "https://localhost:8080/"
        },
        "id": "SQg_qQf90Wx2",
        "outputId": "78b31c01-8ef4-4fa9-db6d-b536dab2050b"
      },
      "execution_count": 11,
      "outputs": [
        {
          "output_type": "stream",
          "name": "stdout",
          "text": [
            "Looking in indexes: https://pypi.org/simple, https://us-python.pkg.dev/colab-wheels/public/simple/\n",
            "Requirement already satisfied: numpy in /usr/local/lib/python3.8/dist-packages (1.21.6)\n"
          ]
        }
      ]
    },
    {
      "cell_type": "code",
      "source": [
        "import numpy as np\n",
        "import pandas as pd\n",
        "from sklearn import preprocessing,metrics,manifold\n",
        "from sklearn.manifold import TSNE\n",
        "from sklearn.model_selection import train_test_split,cross_val_score,GridSearchCV,cross_val_predict\n",
        "from imblearn.over_sampling import ADASYN,SMOTE\n",
        "from imblearn.under_sampling import NearMiss\n",
        "from sklearn.linear_model import LogisticRegression\n",
        "from sklearn.svm import SVC\n",
        "from sklearn.neighbors import KNeighborsClassifier\n",
        "from sklearn.tree import DecisionTreeClassifier\n",
        "from sklearn.ensemble import RandomForestClassifier\n",
        "from sklearn.discriminant_analysis import LinearDiscriminantAnalysis\n",
        "from sklearn.svm import SVC\n",
        "import collections\n",
        "import matplotlib.patches as mpatches\n",
        "from sklearn.metrics import accuracy_score\n",
        "%matplotlib inline\n",
        "from sklearn.preprocessing import RobustScaler\n",
        "import xgboost\n",
        "from imblearn.metrics import classification_report_imbalanced\n",
        "from sklearn.metrics import classification_report,roc_auc_score,roc_curve,r2_score,recall_score,confusion_matrix,precision_recall_curve\n",
        "from collections import Counter\n",
        "from sklearn.model_selection import StratifiedKFold,KFold,StratifiedShuffleSplit\n",
        "from nltk import word_tokenize\n",
        "from nltk.corpus import stopwords\n",
        "\n",
        "import matplotlib.pyplot as plt\n",
        "import matplotlib.patches as mpatches\n",
        "from sklearn.feature_extraction.text import CountVectorizer, TfidfVectorizer\n",
        "from sklearn.model_selection import train_test_split\n",
        "from sklearn.decomposition import PCA, TruncatedSVD,SparsePCA\n",
        "from sklearn.metrics import classification_report,confusion_matrix\n",
        "from nltk.tokenize import word_tokenize\n",
        "from collections import defaultdict\n",
        "from collections import Counter\n",
        "import seaborn as sns\n",
        "from wordcloud import WordCloud,STOPWORDS\n",
        "import nltk\n",
        "from nltk.corpus import stopwords\n",
        "import string\n",
        "from plotly import tools\n",
        "import plotly.offline as py\n",
        "py.init_notebook_mode(connected=True)\n",
        "import plotly.graph_objs as go"
      ],
      "metadata": {
        "colab": {
          "base_uri": "https://localhost:8080/",
          "height": 17
        },
        "id": "fXR49cuvyegI",
        "outputId": "64a70b05-0470-48d8-af7b-56626eb8b6a0"
      },
      "execution_count": 13,
      "outputs": [
        {
          "output_type": "display_data",
          "data": {
            "text/html": [
              "        <script type=\"text/javascript\">\n",
              "        window.PlotlyConfig = {MathJaxConfig: 'local'};\n",
              "        if (window.MathJax) {MathJax.Hub.Config({SVG: {font: \"STIX-Web\"}});}\n",
              "        if (typeof require !== 'undefined') {\n",
              "        require.undef(\"plotly\");\n",
              "        requirejs.config({\n",
              "            paths: {\n",
              "                'plotly': ['https://cdn.plot.ly/plotly-2.8.3.min']\n",
              "            }\n",
              "        });\n",
              "        require(['plotly'], function(Plotly) {\n",
              "            window._Plotly = Plotly;\n",
              "        });\n",
              "        }\n",
              "        </script>\n",
              "        "
            ]
          },
          "metadata": {}
        }
      ]
    },
    {
      "cell_type": "code",
      "source": [
        "print(\"The Shape of the Dataset\".format(),df.shape)"
      ],
      "metadata": {
        "colab": {
          "base_uri": "https://localhost:8080/"
        },
        "id": "CpXuEUNM0gM7",
        "outputId": "b653539e-1b0f-460e-8746-ea94e31e9d93"
      },
      "execution_count": 15,
      "outputs": [
        {
          "output_type": "stream",
          "name": "stdout",
          "text": [
            "The Shape of the Dataset (1000, 2)\n"
          ]
        }
      ]
    },
    {
      "cell_type": "code",
      "source": [
        "good_reviews=df[df['category']=='harass']['message']\n",
        "bad_reviews=df[df['category']=='not_harasse']['message']\n",
        "print(\"First 10 samples of good reviews\\n\".format(),good_reviews[:10])\n",
        "print(\"First 10 samples of bad reviews\\n\".format(),bad_reviews[:10])"
      ],
      "metadata": {
        "colab": {
          "base_uri": "https://localhost:8080/"
        },
        "id": "8HbkJUl30o50",
        "outputId": "a388b935-47e4-463c-e498-a4538dbdcc21"
      },
      "execution_count": 17,
      "outputs": [
        {
          "output_type": "stream",
          "name": "stdout",
          "text": [
            "First 10 samples of good reviews\n",
            " 0     Hey dumb fuck celebs stop doing something for ...\n",
            "1     Drink Bleach Bit â€œ@tayyoung_: FUCK OBAMA, du...\n",
            "3     BLOCK ME THE FUCK BACK YOUR DUMB! Nigga comes ...\n",
            "5     I donâ€™t like bragging about really anything ...\n",
            "7     this dumb bytch wanna get fuckd up RT @tayyoun...\n",
            "8     I guess him I ain't a nigger lol RT @CainTheGr...\n",
            "9     help go back to ur old old old old layout like...\n",
            "10    â€œ@SwagReese24: Please other race. Please for...\n",
            "12    @eMcCrady_89 no racism. She's taking a pic of ...\n",
            "13    RTâ€œ@tayyoung_: FUCK OBAMA, dumb ass niggerâ€...\n",
            "Name: message, dtype: object\n",
            "First 10 samples of bad reviews\n",
            " Series([], Name: message, dtype: object)\n"
          ]
        }
      ]
    },
    {
      "cell_type": "code",
      "source": [
        "count=df['category'].value_counts()\n",
        "print('Total Counts of both sets'.format(),count)\n",
        "\n",
        "print(\"==============\")\n",
        "#Creating a function to plot the counts using matplotlib\n",
        "def plot_counts(count_good,count_bad):\n",
        "    plt.rcParams['figure.figsize']=(6,6)\n",
        "    plt.bar(0,count_good,width=0.6,label='Positive Reviews',color='Green')\n",
        "    plt.legend()\n",
        "    plt.bar(2,count_bad,width=0.6,label='Negative Reviews',color='Red')\n",
        "    plt.legend()\n",
        "    plt.ylabel('Count of Reviews')\n",
        "    plt.xlabel('Types of Reviews')\n",
        "    plt.show()\n",
        "    \n",
        "count_good=df[df['category']=='harass']\n",
        "count_bad=df[df['category']=='not_harass']\n",
        "plot_counts(len(count_good),len(count_bad))\n"
      ],
      "metadata": {
        "colab": {
          "base_uri": "https://localhost:8080/",
          "height": 457
        },
        "id": "LWa6kOlc1Zzc",
        "outputId": "779fba2f-5577-47d2-a085-778c091e418d"
      },
      "execution_count": 31,
      "outputs": [
        {
          "output_type": "stream",
          "name": "stdout",
          "text": [
            "Total Counts of both sets harass        650\n",
            "not_harass    350\n",
            "Name: category, dtype: int64\n",
            "==============\n"
          ]
        },
        {
          "output_type": "display_data",
          "data": {
            "text/plain": [
              "<Figure size 432x432 with 1 Axes>"
            ],
            "image/png": "[encoded data removed]"
          },
          "metadata": {
            "needs_background": "light"
          }
        }
      ]
    },
    {
      "cell_type": "code",
      "source": [
        "#Analyse the count of words in each segment- both positive and negative reviews\n",
        "#Function for checking word length\n",
        "def cal_len(data):\n",
        "    return len(data)\n",
        "\n",
        "#Create generic plotter with Seaborn\n",
        "def plot_count(count_ones,count_zeros,title_1,title_2,subtitle):\n",
        "    fig,(ax1,ax2)=plt.subplots(1,2,figsize=(15,5))\n",
        "    sns.distplot(count_zeros,ax=ax1,color='Blue')\n",
        "    ax1.set_title(title_1)\n",
        "    sns.distplot(count_ones,ax=ax2,color='Red')\n",
        "    ax2.set_title(title_2)\n",
        "    fig.suptitle(subtitle)\n",
        "    plt.show()    \n",
        "\n",
        "\n",
        "\n",
        "\n",
        "count_good_words=count_good['message'].str.split().apply(lambda z:cal_len(z))\n",
        "count_bad_words=count_bad['message'].str.split().apply(lambda z:cal_len(z))\n",
        "print(\"Positive Review Words:\" + str(count_good_words))\n",
        "print(\"Negative Review Words:\" + str(count_bad_words))\n",
        "plot_count(count_good_words,count_bad_words,\"Positive Review\",\"Negative Review\",\"Reviews Word Analysis\")"
      ],
      "metadata": {
        "colab": {
          "base_uri": "https://localhost:8080/",
          "height": 946
        },
        "id": "ktsCZ3ph5DPW",
        "outputId": "1049e734-825e-4d96-cad0-18b8d32f03bd"
      },
      "execution_count": 32,
      "outputs": [
        {
          "output_type": "stream",
          "name": "stdout",
          "text": [
            "Positive Review Words:0      21\n",
            "1       9\n",
            "3      17\n",
            "5      47\n",
            "7      14\n",
            "       ..\n",
            "994    20\n",
            "996    19\n",
            "997    17\n",
            "998    10\n",
            "999    23\n",
            "Name: message, Length: 650, dtype: int64\n",
            "Negative Review Words:2      14\n",
            "4      25\n",
            "6       1\n",
            "11     15\n",
            "14     23\n",
            "       ..\n",
            "970    11\n",
            "979    23\n",
            "985     7\n",
            "992    12\n",
            "995    21\n",
            "Name: message, Length: 350, dtype: int64\n"
          ]
        },
        {
          "output_type": "stream",
          "name": "stderr",
          "text": [
            "/usr/local/lib/python3.8/dist-packages/seaborn/distributions.py:2619: FutureWarning:\n",
            "\n",
            "`distplot` is a deprecated function and will be removed in a future version. Please adapt your code to use either `displot` (a figure-level function with similar flexibility) or `histplot` (an axes-level function for histograms).\n",
            "\n",
            "/usr/local/lib/python3.8/dist-packages/seaborn/distributions.py:2619: FutureWarning:\n",
            "\n",
            "`distplot` is a deprecated function and will be removed in a future version. Please adapt your code to use either `displot` (a figure-level function with similar flexibility) or `histplot` (an axes-level function for histograms).\n",
            "\n"
          ]
        },
        {
          "output_type": "display_data",
          "data": {
            "text/plain": [
              "<Figure size 1080x360 with 2 Axes>"
            ],
            "image/png": "[encoded data removed]"
          },
          "metadata": {
            "needs_background": "light"
          }
        }
      ]
    },
    {
      "cell_type": "code",
      "source": [
        "#Count Punctuations/Stopwords/Codes and other semantic datatypes\n",
        "#We will be using the \"generic_plotter\" function.\n",
        "\n",
        "count_good_punctuations=count_good['message'].apply(lambda z: len([c for c in str(z) if c in string.punctuation]))\n",
        "count_bad_punctuations=count_bad['message'].apply(lambda z:len([c for c in str(z) if c in string.punctuation]))\n",
        "plot_count(count_good_punctuations,count_bad_punctuations,\"Positive Review Punctuations\",\"Negative Review Punctuations\",\"Reviews Word Punctuation Analysis\")"
      ],
      "metadata": {
        "colab": {
          "base_uri": "https://localhost:8080/",
          "height": 529
        },
        "id": "iaFeHxrQ5f41",
        "outputId": "6de6cac8-d36a-4092-9323-b1b1846daf22"
      },
      "execution_count": 33,
      "outputs": [
        {
          "output_type": "stream",
          "name": "stderr",
          "text": [
            "/usr/local/lib/python3.8/dist-packages/seaborn/distributions.py:2619: FutureWarning:\n",
            "\n",
            "`distplot` is a deprecated function and will be removed in a future version. Please adapt your code to use either `displot` (a figure-level function with similar flexibility) or `histplot` (an axes-level function for histograms).\n",
            "\n",
            "/usr/local/lib/python3.8/dist-packages/seaborn/distributions.py:2619: FutureWarning:\n",
            "\n",
            "`distplot` is a deprecated function and will be removed in a future version. Please adapt your code to use either `displot` (a figure-level function with similar flexibility) or `histplot` (an axes-level function for histograms).\n",
            "\n"
          ]
        },
        {
          "output_type": "display_data",
          "data": {
            "text/plain": [
              "<Figure size 1080x360 with 2 Axes>"
            ],
            "image/png": "[encoded data removed]"
          },
          "metadata": {
            "needs_background": "light"
          }
        }
      ]
    },
    {
      "cell_type": "code",
      "source": [
        "import nltk\n",
        "nltk.download('stopwords')"
      ],
      "metadata": {
        "colab": {
          "base_uri": "https://localhost:8080/"
        },
        "id": "YaOz0c3h7F-0",
        "outputId": "49fbed7a-c9e7-4a0c-d0f8-6088faf8e7fe"
      },
      "execution_count": 35,
      "outputs": [
        {
          "output_type": "stream",
          "name": "stderr",
          "text": [
            "[nltk_data] Downloading package stopwords to /root/nltk_data...\n",
            "[nltk_data]   Unzipping corpora/stopwords.zip.\n"
          ]
        },
        {
          "output_type": "execute_result",
          "data": {
            "text/plain": [
              "True"
            ]
          },
          "metadata": {},
          "execution_count": 35
        }
      ]
    },
    {
      "cell_type": "code",
      "source": [
        "import nltk\n",
        "from nltk.corpus import stopwords\n",
        "\n",
        "stops = set(stopwords.words('english'))\n",
        "print(stops)"
      ],
      "metadata": {
        "colab": {
          "base_uri": "https://localhost:8080/"
        },
        "id": "obyBrUar7Nv7",
        "outputId": "3ef5c76a-0702-4293-c7ef-d8002f4b52e6"
      },
      "execution_count": 36,
      "outputs": [
        {
          "output_type": "stream",
          "name": "stdout",
          "text": [
            "{'can', 'which', \"you've\", 'him', 'ours', 'didn', 'out', 'haven', 'if', 'more', 'yourself', 'couldn', \"that'll\", \"it's\", 'with', 'some', 'any', 'too', 'shouldn', 'were', 'a', 'between', 'll', 'an', 'below', 'you', 'again', 'yourselves', 'he', 'hasn', 'doesn', 'won', 'all', 'had', 'those', 'of', 'but', 'at', 'should', 'being', 'in', 'their', 'and', 'own', 'my', 'here', 'over', 'off', 'what', 'having', 'her', 'do', 'while', 'to', 'we', \"wouldn't\", 'our', 've', 'y', 'himself', 'hadn', 'themselves', \"should've\", \"don't\", 'mustn', 'each', \"shan't\", 'whom', 'the', 'ourselves', 'through', 'nor', 'your', \"wasn't\", \"you're\", \"needn't\", \"shouldn't\", 'me', 'both', 'needn', 'been', 'isn', 'before', 'after', 'up', \"she's\", 'does', 's', 'on', 'same', 'was', \"you'll\", 'its', \"couldn't\", 'just', \"mightn't\", \"won't\", \"doesn't\", 'only', 'am', 'it', \"hadn't\", 'ma', 'is', 'once', 'most', 'o', \"isn't\", 'then', 'are', 'wouldn', 'yours', 'she', 'or', 'these', 'from', 'them', 'have', 'now', 'for', 'very', 'myself', 'herself', 'has', 'don', \"weren't\", 'will', 'so', 'm', 'by', 'down', 'about', 're', 'that', 'when', 'as', 'theirs', 'they', 'against', 'shan', 'where', 'aren', 'not', 'other', 'because', 'further', 'above', 'there', \"hasn't\", 'his', 'i', \"mustn't\", 'why', 'hers', 'ain', 'such', 'than', \"aren't\", 'wasn', 'during', 'into', 'until', 'itself', \"didn't\", 'how', \"you'd\", 't', \"haven't\", 'this', 'weren', 'who', 'be', 'mightn', 'under', 'no', 'did', 'd', 'few', 'doing'}\n"
          ]
        }
      ]
    },
    {
      "cell_type": "code",
      "source": [
        "from nltk.corpus import stopwords\n",
        "stop_words = stopwords.words('english')"
      ],
      "metadata": {
        "id": "bvUnlC0k7ftb"
      },
      "execution_count": 37,
      "outputs": []
    },
    {
      "cell_type": "code",
      "source": [
        "#Analyse Stopwords\n",
        "\n",
        "def plot_count_1(count_ones,count_zeros,title_1,title_2,subtitle):\n",
        "    fig,(ax1,ax2)=plt.subplots(1,2,figsize=(15,5))\n",
        "    sns.distplot(count_zeros,ax=ax1,color='Blue')\n",
        "    ax1.set_title(title_1)\n",
        "    sns.distplot(count_ones,ax=ax2,color='Orange')\n",
        "    ax2.set_title(title_2)\n",
        "    fig.suptitle(subtitle)\n",
        "    plt.show()    \n",
        "\n",
        "\n",
        "stops=set(stopwords.words('english'))\n",
        "count_good_stops=count_good['message'].apply(lambda z : np.mean([len(z) for w in str(z).split()]))\n",
        "count_bad_stops=count_bad['message'].apply(lambda z : np.mean([len(z) for w in str(z).split()]))\n",
        "plot_count_1(count_good_stops,count_bad_stops,\"Positive Reviews Stopwords\",\"Negative Reviews Stopwords\",\"Reviews Stopwords Analysis\")"
      ],
      "metadata": {
        "colab": {
          "base_uri": "https://localhost:8080/",
          "height": 529
        },
        "id": "-Y97_Jbd5whc",
        "outputId": "e9763b74-f503-4d31-98b6-2b455949361d"
      },
      "execution_count": 38,
      "outputs": [
        {
          "output_type": "stream",
          "name": "stderr",
          "text": [
            "/usr/local/lib/python3.8/dist-packages/seaborn/distributions.py:2619: FutureWarning:\n",
            "\n",
            "`distplot` is a deprecated function and will be removed in a future version. Please adapt your code to use either `displot` (a figure-level function with similar flexibility) or `histplot` (an axes-level function for histograms).\n",
            "\n",
            "/usr/local/lib/python3.8/dist-packages/seaborn/distributions.py:2619: FutureWarning:\n",
            "\n",
            "`distplot` is a deprecated function and will be removed in a future version. Please adapt your code to use either `displot` (a figure-level function with similar flexibility) or `histplot` (an axes-level function for histograms).\n",
            "\n"
          ]
        },
        {
          "output_type": "display_data",
          "data": {
            "text/plain": [
              "<Figure size 1080x360 with 2 Axes>"
            ],
            "image/png": "[encoded data removed]"
          },
          "metadata": {
            "needs_background": "light"
          }
        }
      ]
    },
    {
      "cell_type": "code",
      "source": [],
      "metadata": {
        "id": "hyCU1ydL7s87"
      },
      "execution_count": null,
      "outputs": []
    },
    {
      "cell_type": "code",
      "source": [],
      "metadata": {
        "id": "kQe8WHU54kPn"
      },
      "execution_count": null,
      "outputs": []
    }
  ]
}